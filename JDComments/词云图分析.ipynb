{
 "cells": [
  {
   "cell_type": "code",
   "execution_count": null,
   "id": "05c50969",
   "metadata": {
    "scrolled": false,
    "is_executing": true
   },
   "outputs": [],
   "source": [
    "import jieba\n",
    "from pyecharts.charts import WordCloud\n",
    "import pandas as pd\n",
    "from pyecharts import options as opts\n",
    "\n",
    "wordlist = []\n",
    "data = pd.read_csv('jingdong.csv', encoding='utf-8-sig')['content']\n",
    "\n",
    "data_list = data.values.tolist()\n",
    "data_str = ' '.join(data_list)\n",
    "words = jieba.lcut(data_str)\n",
    "# 取出除每一个单词\n",
    "for word in words:\n",
    "    if len(word) > 1:\n",
    "        #数据的添加，\n",
    "        wordlist.append({\"word\":word,\"count\":1})\n",
    "\n",
    "#wordlist为列表类型，元素为字典类型[{\"word\":发展，\"count\":1},...,...,]\n",
    "df = pd.DataFrame(wordlist)\n",
    "# 以word的值作为关键词分组，再统计每组的（count）的总数sum\n",
    "#groupby DataFrame中的分组函数\n",
    "dfword = df.groupby('word')['count'].sum()\n",
    "# sort_values以列的值排序，ascending为false时降序排序\n",
    "dfword2 = dfword.sort_values(ascending=False)\n",
    "# 将dfword2 的前100数据转为DataFrame。\n",
    "dfword3 = pd.DataFrame(dfword2.head(100),columns=['count'])\n",
    "# 此时列”word“是作为列索引，可将其转为列\n",
    "dfword3['word'] = dfword3.index\n",
    "dfword3['word']\n",
    "\n",
    "#将word列转为列表\n",
    "word = dfword3['word'].tolist()\n",
    "#将count列转为列表\n",
    "count = dfword3['count'].tolist()\n",
    "#用for循环合并数据\n",
    "a = [list(z) for z in zip(word,count)]\n",
    "c = (\n",
    "    #WordCloud类的实列化\n",
    "    WordCloud()\n",
    "    #添加图名称、数据、字体的随机大小、图像类型\n",
    "    .add(\"\", a, word_size_range=[20, 100],shape=\"diamond\")\n",
    "    #图像的具体设置也可以再全局设置中设置，其中还有一些好玩的设置，这里就不在深入了\n",
    "    .set_global_opts(title_opts=opts.TitleOpts(title=\"词云图\"))\n",
    ")\n",
    "#在jupyter上显示\n",
    "c.render('1.html')"
   ]
  },
  {
   "cell_type": "code",
   "execution_count": null,
   "id": "5f9a34af",
   "metadata": {},
   "outputs": [],
   "source": []
  }
 ],
 "metadata": {
  "kernelspec": {
   "display_name": "Python 3 (ipykernel)",
   "language": "python",
   "name": "python3"
  },
  "language_info": {
   "codemirror_mode": {
    "name": "ipython",
    "version": 3
   },
   "file_extension": ".py",
   "mimetype": "text/x-python",
   "name": "python",
   "nbconvert_exporter": "python",
   "pygments_lexer": "ipython3",
   "version": "3.8.10"
  }
 },
 "nbformat": 4,
 "nbformat_minor": 5
}
